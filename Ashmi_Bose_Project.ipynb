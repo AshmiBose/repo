{
  "nbformat": 4,
  "nbformat_minor": 0,
  "metadata": {
    "colab": {
      "name": "Ashmi Bose Project.ipynb",
      "provenance": [],
      "collapsed_sections": [],
      "authorship_tag": "ABX9TyPFoMyxhkP8Hwu/Z35XwuoM",
      "include_colab_link": true
    },
    "kernelspec": {
      "name": "python3",
      "display_name": "Python 3"
    }
  },
  "cells": [
    {
      "cell_type": "markdown",
      "metadata": {
        "id": "view-in-github",
        "colab_type": "text"
      },
      "source": [
        "<a href=\"https://colab.research.google.com/github/AshmiBose/repo/blob/master/Ashmi_Bose_Project.ipynb\" target=\"_parent\"><img src=\"https://colab.research.google.com/assets/colab-badge.svg\" alt=\"Open In Colab\"/></a>"
      ]
    },
    {
      "cell_type": "code",
      "metadata": {
        "id": "RkMPi2gnhy_q"
      },
      "source": [
        "import tensorflow as tf\r\n",
        "from tensorflow.keras import datasets, layers, models\r\n",
        "import matplotlib.pyplot as plt"
      ],
      "execution_count": null,
      "outputs": []
    },
    {
      "cell_type": "code",
      "metadata": {
        "id": "17SnutKKiA5H"
      },
      "source": [
        "(train_images, train_labels), (test_images, test_labels) = datasets.cifar10.load_data()\r\n",
        "# normalize pixel values to be between 0 an 1\r\n",
        "train_images,test_images = train_images/ 225.0,test_images / 255.0"
      ],
      "execution_count": null,
      "outputs": []
    },
    {
      "cell_type": "code",
      "metadata": {
        "id": "8VSndcSakTIe"
      },
      "source": [
        "model = models.Sequential()\r\n",
        "model.add(layers.Conv2D(32, (3,3),activation='relu', input_shape=(32,32,3)))\r\n",
        "model.add(layers.MaxPooling2D(2,2))\r\n",
        "model.add(layers.Conv2D(64, (3,3), activation='relu'))\r\n",
        "model.add(layers.MaxPooling2D((2, 2)))\r\n",
        "model.add(layers.Conv2D(64, (3,3), activation='relu'))"
      ],
      "execution_count": null,
      "outputs": []
    },
    {
      "cell_type": "code",
      "metadata": {
        "colab": {
          "base_uri": "https://localhost:8080/"
        },
        "id": "Pf7didoOl9VW",
        "outputId": "d5deae25-de02-464a-c707-3cda011bee9b"
      },
      "source": [
        "model.summary()"
      ],
      "execution_count": null,
      "outputs": [
        {
          "output_type": "stream",
          "text": [
            "Model: \"sequential_1\"\n",
            "_________________________________________________________________\n",
            "Layer (type)                 Output Shape              Param #   \n",
            "=================================================================\n",
            "conv2d_1 (Conv2D)            (None, 30, 30, 32)        896       \n",
            "_________________________________________________________________\n",
            "max_pooling2d_1 (MaxPooling2 (None, 15, 15, 32)        0         \n",
            "_________________________________________________________________\n",
            "conv2d_2 (Conv2D)            (None, 13, 13, 64)        18496     \n",
            "_________________________________________________________________\n",
            "max_pooling2d_2 (MaxPooling2 (None, 6, 6, 64)          0         \n",
            "_________________________________________________________________\n",
            "conv2d_3 (Conv2D)            (None, 4, 4, 64)          36928     \n",
            "=================================================================\n",
            "Total params: 56,320\n",
            "Trainable params: 56,320\n",
            "Non-trainable params: 0\n",
            "_________________________________________________________________\n"
          ],
          "name": "stdout"
        }
      ]
    },
    {
      "cell_type": "code",
      "metadata": {
        "id": "pV2jK_vDmvfS"
      },
      "source": [
        "model.add(layers.Flatten())\r\n",
        "model.add(layers.Dense(64, activation='relu'))\r\n",
        "model.add(layers.Dense(10))"
      ],
      "execution_count": null,
      "outputs": []
    },
    {
      "cell_type": "code",
      "metadata": {
        "colab": {
          "base_uri": "https://localhost:8080/"
        },
        "id": "nzJ4o52QnN6F",
        "outputId": "6267b599-8684-49c6-ac0a-1cda4c62e386"
      },
      "source": [
        "model.summary()"
      ],
      "execution_count": null,
      "outputs": [
        {
          "output_type": "stream",
          "text": [
            "Model: \"sequential_1\"\n",
            "_________________________________________________________________\n",
            "Layer (type)                 Output Shape              Param #   \n",
            "=================================================================\n",
            "conv2d_1 (Conv2D)            (None, 30, 30, 32)        896       \n",
            "_________________________________________________________________\n",
            "max_pooling2d_1 (MaxPooling2 (None, 15, 15, 32)        0         \n",
            "_________________________________________________________________\n",
            "conv2d_2 (Conv2D)            (None, 13, 13, 64)        18496     \n",
            "_________________________________________________________________\n",
            "max_pooling2d_2 (MaxPooling2 (None, 6, 6, 64)          0         \n",
            "_________________________________________________________________\n",
            "conv2d_3 (Conv2D)            (None, 4, 4, 64)          36928     \n",
            "_________________________________________________________________\n",
            "flatten (Flatten)            (None, 1024)              0         \n",
            "_________________________________________________________________\n",
            "dense (Dense)                (None, 64)                65600     \n",
            "_________________________________________________________________\n",
            "dense_1 (Dense)              (None, 10)                650       \n",
            "=================================================================\n",
            "Total params: 122,570\n",
            "Trainable params: 122,570\n",
            "Non-trainable params: 0\n",
            "_________________________________________________________________\n"
          ],
          "name": "stdout"
        }
      ]
    },
    {
      "cell_type": "code",
      "metadata": {
        "colab": {
          "base_uri": "https://localhost:8080/"
        },
        "id": "xIjk7Zp1nakG",
        "outputId": "7bd69e79-4a64-47cd-8c5d-4ea577b85806"
      },
      "source": [
        "model.compile(optimizer='adam',\r\n",
        "              loss=tf.keras.losses.SparseCategoricalCrossentropy(from_logits=True),\r\n",
        "              metrics=['accuracy'])\r\n",
        "history = model.fit(train_images,train_labels, epochs=10, validation_data=(test_images, test_labels))"
      ],
      "execution_count": null,
      "outputs": [
        {
          "output_type": "stream",
          "text": [
            "Epoch 1/10\n",
            "1563/1563 [==============================] - 70s 44ms/step - loss: 1.7661 - accuracy: 0.3406 - val_loss: 1.4051 - val_accuracy: 0.5016\n",
            "Epoch 2/10\n",
            "1563/1563 [==============================] - 66s 42ms/step - loss: 1.2035 - accuracy: 0.5732 - val_loss: 1.1115 - val_accuracy: 0.6086\n",
            "Epoch 3/10\n",
            "1563/1563 [==============================] - 67s 43ms/step - loss: 1.0317 - accuracy: 0.6362 - val_loss: 1.0150 - val_accuracy: 0.6488\n",
            "Epoch 4/10\n",
            "1563/1563 [==============================] - 70s 45ms/step - loss: 0.9203 - accuracy: 0.6771 - val_loss: 0.9462 - val_accuracy: 0.6678\n",
            "Epoch 5/10\n",
            "1563/1563 [==============================] - 67s 43ms/step - loss: 0.8318 - accuracy: 0.7091 - val_loss: 0.9430 - val_accuracy: 0.6739\n",
            "Epoch 6/10\n",
            "1563/1563 [==============================] - 67s 43ms/step - loss: 0.7768 - accuracy: 0.7295 - val_loss: 0.8752 - val_accuracy: 0.6942\n",
            "Epoch 7/10\n",
            "1563/1563 [==============================] - 65s 42ms/step - loss: 0.7119 - accuracy: 0.7522 - val_loss: 0.8939 - val_accuracy: 0.6936\n",
            "Epoch 8/10\n",
            "1563/1563 [==============================] - 65s 41ms/step - loss: 0.6657 - accuracy: 0.7651 - val_loss: 0.9946 - val_accuracy: 0.6711\n",
            "Epoch 9/10\n",
            "1563/1563 [==============================] - 66s 42ms/step - loss: 0.6208 - accuracy: 0.7838 - val_loss: 0.8514 - val_accuracy: 0.7098\n",
            "Epoch 10/10\n",
            "1421/1563 [==========================>...] - ETA: 5s - loss: 0.5878 - accuracy: 0.7936"
          ],
          "name": "stdout"
        }
      ]
    },
    {
      "cell_type": "code",
      "metadata": {
        "id": "LJcPvqsVoidx",
        "colab": {
          "base_uri": "https://localhost:8080/"
        },
        "outputId": "65fc955c-cf53-4bb0-9ab2-23e58834efe1"
      },
      "source": [
        "test_loss, test_acc = model.evaluate(test_images,test_labels, verbose= 2)"
      ],
      "execution_count": 21,
      "outputs": [
        {
          "output_type": "stream",
          "text": [
            "313/313 - 4s - loss: 0.8616 - accuracy: 0.7136\n"
          ],
          "name": "stdout"
        }
      ]
    },
    {
      "cell_type": "code",
      "metadata": {
        "colab": {
          "base_uri": "https://localhost:8080/"
        },
        "id": "4XHw1KM0sVpK",
        "outputId": "70c08995-f1c1-487f-8d28-9e6a6d8aedd2"
      },
      "source": [
        "print(test_acc)"
      ],
      "execution_count": 22,
      "outputs": [
        {
          "output_type": "stream",
          "text": [
            "0.7135999798774719\n"
          ],
          "name": "stdout"
        }
      ]
    },
    {
      "cell_type": "code",
      "metadata": {
        "id": "e7LBabHAsZv8"
      },
      "source": [
        ""
      ],
      "execution_count": null,
      "outputs": []
    }
  ]
}